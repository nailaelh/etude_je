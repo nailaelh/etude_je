{
 "cells": [
  {
   "cell_type": "code",
   "execution_count": 13,
   "metadata": {},
   "outputs": [
    {
     "data": {
      "text/html": [
       "<script type=\"text/javascript\">window.PlotlyConfig = {MathJaxConfig: 'local'};</script><script type=\"text/javascript\">if (window.MathJax) {MathJax.Hub.Config({SVG: {font: \"STIX-Web\"}});}</script><script>requirejs.config({paths: { 'plotly': ['https://cdn.plot.ly/plotly-latest.min']},});if(!window._Plotly) {require(['plotly'],function(plotly) {window._Plotly=plotly;});}</script>"
      ],
      "text/vnd.plotly.v1+html": [
       "<script type=\"text/javascript\">window.PlotlyConfig = {MathJaxConfig: 'local'};</script><script type=\"text/javascript\">if (window.MathJax) {MathJax.Hub.Config({SVG: {font: \"STIX-Web\"}});}</script><script>requirejs.config({paths: { 'plotly': ['https://cdn.plot.ly/plotly-latest.min']},});if(!window._Plotly) {require(['plotly'],function(plotly) {window._Plotly=plotly;});}</script>"
      ]
     },
     "metadata": {},
     "output_type": "display_data"
    }
   ],
   "source": [
    "import pandas as pd\n",
    "import numpy as np\n",
    "\n",
    "from matplotlib import pyplot as plt\n",
    "import seaborn as sns\n",
    "import plotly.figure_factory as ff\n",
    "import plotly.offline as py\n",
    "import plotly.graph_objs as go\n",
    "from plotly import tools\n",
    "py.init_notebook_mode(connected = True)"
   ]
  },
  {
   "cell_type": "code",
   "execution_count": 27,
   "metadata": {},
   "outputs": [
    {
     "data": {
      "text/plain": [
       "['identifiant école',\n",
       " \"Nom de l'ecole\",\n",
       " 'Nom du programme',\n",
       " 'Numéro de téléphone',\n",
       " 'Effectif 1ere année',\n",
       " 'Nombre de diplômés 2017',\n",
       " 'Effectifs 2017/2018 1er année',\n",
       " 'Effectifs 2017/2018 2eme année',\n",
       " 'Effectifs 2017/2018 3eme année',\n",
       " 'Effectifs 2017/2018 4eme année',\n",
       " 'Effectifs 2017/2018 5eme année',\n",
       " 'Effectifs 2017/2018 césure',\n",
       " 'Frais 1er année',\n",
       " 'Frais 2eme année',\n",
       " 'Frais 3eme année',\n",
       " 'Frais 4eme année',\n",
       " 'Frais 5eme année',\n",
       " 'Frais césure',\n",
       " 'Frais annexes pédagogiques',\n",
       " 'Frais annexes étudiants',\n",
       " 'Frais annexes double-diplômes',\n",
       " 'Frais annexes séjours étranger',\n",
       " 'Frais annexes campus',\n",
       " 'Frais annexes associations',\n",
       " 'Frais annexes cotisation',\n",
       " 'fichier contrat vierge']"
      ]
     },
     "execution_count": 27,
     "metadata": {},
     "output_type": "execute_result"
    }
   ],
   "source": [
    "general = pd.read_csv('data_bba_2019/donnees_generales.csv', sep = ';', index_col = 0)\n",
    "list(general)"
   ]
  },
  {
   "cell_type": "code",
   "execution_count": 32,
   "metadata": {},
   "outputs": [
    {
     "data": {
      "text/html": [
       "<div>\n",
       "<style scoped>\n",
       "    .dataframe tbody tr th:only-of-type {\n",
       "        vertical-align: middle;\n",
       "    }\n",
       "\n",
       "    .dataframe tbody tr th {\n",
       "        vertical-align: top;\n",
       "    }\n",
       "\n",
       "    .dataframe thead th {\n",
       "        text-align: right;\n",
       "    }\n",
       "</style>\n",
       "<table border=\"1\" class=\"dataframe\">\n",
       "  <thead>\n",
       "    <tr style=\"text-align: right;\">\n",
       "      <th></th>\n",
       "      <th>identifiant école</th>\n",
       "      <th>Effectifs 2017/2018 5eme année</th>\n",
       "      <th>Effectifs 2017/2018 césure</th>\n",
       "    </tr>\n",
       "  </thead>\n",
       "  <tbody>\n",
       "    <tr>\n",
       "      <th>0</th>\n",
       "      <td>EDHEC International BBA</td>\n",
       "      <td>NaN</td>\n",
       "      <td>NaN</td>\n",
       "    </tr>\n",
       "    <tr>\n",
       "      <th>1</th>\n",
       "      <td>EM Lyon Global BBA</td>\n",
       "      <td>NaN</td>\n",
       "      <td>3.0</td>\n",
       "    </tr>\n",
       "    <tr>\n",
       "      <th>2</th>\n",
       "      <td>BBA International La Rochelle</td>\n",
       "      <td>2.0</td>\n",
       "      <td>NaN</td>\n",
       "    </tr>\n",
       "    <tr>\n",
       "      <th>3</th>\n",
       "      <td>BBA ESC Troyes</td>\n",
       "      <td>0.0</td>\n",
       "      <td>0.0</td>\n",
       "    </tr>\n",
       "    <tr>\n",
       "      <th>4</th>\n",
       "      <td>ESSEC Global BBA</td>\n",
       "      <td>NaN</td>\n",
       "      <td>NaN</td>\n",
       "    </tr>\n",
       "    <tr>\n",
       "      <th>5</th>\n",
       "      <td>KEDGE International BBA</td>\n",
       "      <td>NaN</td>\n",
       "      <td>NaN</td>\n",
       "    </tr>\n",
       "    <tr>\n",
       "      <th>6</th>\n",
       "      <td>INSEEC BBA</td>\n",
       "      <td>NaN</td>\n",
       "      <td>NaN</td>\n",
       "    </tr>\n",
       "    <tr>\n",
       "      <th>7</th>\n",
       "      <td>NEOMA Globla BBA</td>\n",
       "      <td>NaN</td>\n",
       "      <td>NaN</td>\n",
       "    </tr>\n",
       "    <tr>\n",
       "      <th>8</th>\n",
       "      <td>SKEMA BBA in Global Management</td>\n",
       "      <td>NaN</td>\n",
       "      <td>8.0</td>\n",
       "    </tr>\n",
       "  </tbody>\n",
       "</table>\n",
       "</div>"
      ],
      "text/plain": [
       "                 identifiant école  Effectifs 2017/2018 5eme année  \\\n",
       "0         EDHEC International BBA                              NaN   \n",
       "1              EM Lyon Global BBA                              NaN   \n",
       "2   BBA International La Rochelle                              2.0   \n",
       "3                  BBA ESC Troyes                              0.0   \n",
       "4                ESSEC Global BBA                              NaN   \n",
       "5         KEDGE International BBA                              NaN   \n",
       "6                      INSEEC BBA                              NaN   \n",
       "7                NEOMA Globla BBA                              NaN   \n",
       "8  SKEMA BBA in Global Management                              NaN   \n",
       "\n",
       "   Effectifs 2017/2018 césure  \n",
       "0                         NaN  \n",
       "1                         3.0  \n",
       "2                         NaN  \n",
       "3                         0.0  \n",
       "4                         NaN  \n",
       "5                         NaN  \n",
       "6                         NaN  \n",
       "7                         NaN  \n",
       "8                         8.0  "
      ]
     },
     "execution_count": 32,
     "metadata": {},
     "output_type": "execute_result"
    }
   ],
   "source": [
    "general[['identifiant école','Effectifs 2017/2018 5eme année', 'Effectifs 2017/2018 césure']]"
   ]
  },
  {
   "cell_type": "code",
   "execution_count": 25,
   "metadata": {},
   "outputs": [
    {
     "data": {
      "text/plain": [
       "['identifiant école',\n",
       " 'Nb Univ',\n",
       " \"Nb etudiant Univ a l'etrangers\",\n",
       " 'Nb AACSB',\n",
       " 'Nb EQUIS',\n",
       " 'NB les deux',\n",
       " 'Nb étudiants double diplômés (SOMME)',\n",
       " 'Nombre étudiants dble diplômés Aacsb ou equis',\n",
       " 'Nombre de bachelors',\n",
       " 'Nbre etudiants étrangers',\n",
       " 'Nb nationalités différentes',\n",
       " 'Nb prof permanents étrangers',\n",
       " 'Nb séjour 1er année',\n",
       " 'Nb séjour 2eme année',\n",
       " 'Nb séjour 3eme année',\n",
       " 'Nb séjour 4eme année',\n",
       " 'Nb séjour 5eme année',\n",
       " 'Nb séjour césure',\n",
       " 'Durée moyenne 1er année',\n",
       " 'Durée moyenne 2eme année',\n",
       " 'Durée moyenne 3eme année',\n",
       " 'Durée moyenne 4eme année',\n",
       " 'Durée moyenne 5eme année',\n",
       " 'Durée moyenne césure',\n",
       " \"Nb stage à l'étranger 1er année\",\n",
       " \"Nb stage à l'étranger 2eme année\",\n",
       " \"Nb stage à l'étranger 3eme année\",\n",
       " \"Nb stage à l'étranger 4eme année\",\n",
       " \"Nb stage à l'étranger 5eme année\",\n",
       " \"Nb stage à l'étranger césure\",\n",
       " 'Durée moyenne 1er année.1',\n",
       " 'Durée moyenne 2eme année.1',\n",
       " 'Durée moyenne 3eme année.1',\n",
       " 'Durée moyenne 4eme année.1',\n",
       " 'Durée moyenne 5eme année.1',\n",
       " 'Durée moyenne 6eme année',\n",
       " 'Campus séjourné étudiants',\n",
       " 'Combien de campus',\n",
       " 'Combien partis en séjour 2017/2018']"
      ]
     },
     "execution_count": 25,
     "metadata": {},
     "output_type": "execute_result"
    }
   ],
   "source": [
    "data = pd.read_csv('data_bba_2019/international.csv', sep = ';', index_col = 0)\n",
    "list(data)"
   ]
  },
  {
   "cell_type": "markdown",
   "metadata": {},
   "source": [
    "# Statistiques descriptives"
   ]
  },
  {
   "cell_type": "code",
   "execution_count": 20,
   "metadata": {},
   "outputs": [],
   "source": [
    "num_columns = list(data.select_dtypes(include=[np.number]))"
   ]
  },
  {
   "cell_type": "code",
   "execution_count": 37,
   "metadata": {},
   "outputs": [
    {
     "data": {
      "text/plain": [
       "0    1,6\n",
       "1      1\n",
       "2      2\n",
       "3      1\n",
       "4      1\n",
       "5      0\n",
       "6      2\n",
       "7      2\n",
       "8      0\n",
       "Name: Durée moyenne 2eme année, dtype: object"
      ]
     },
     "execution_count": 37,
     "metadata": {},
     "output_type": "execute_result"
    }
   ],
   "source": [
    "data['Durée moyenne 2eme année']"
   ]
  },
  {
   "cell_type": "code",
   "execution_count": 35,
   "metadata": {},
   "outputs": [
    {
     "data": {
      "text/plain": [
       "['identifiant école', 'Durée moyenne 2eme année', 'Durée moyenne 3eme année']"
      ]
     },
     "execution_count": 35,
     "metadata": {},
     "output_type": "execute_result"
    }
   ],
   "source": [
    "[x for x in list(data) if x not in num_columns]"
   ]
  },
  {
   "cell_type": "code",
   "execution_count": 24,
   "metadata": {},
   "outputs": [
    {
     "data": {
      "application/vnd.plotly.v1+json": {
       "config": {
        "linkText": "Export to plot.ly",
        "plotlyServerURL": "https://plot.ly",
        "showLink": false
       },
       "data": [
        {
         "name": "Nb Univ",
         "type": "box",
         "uid": "40816e9d-ce6a-4a98-bded-98b30afb5693",
         "y": [
          119,
          86,
          40,
          58,
          115,
          152,
          128,
          92,
          55
         ]
        },
        {
         "name": "Nb etudiant Univ a l'etrangers",
         "type": "box",
         "uid": "2f3ab4ca-4dd9-4bc0-bc53-9dceafb73c11",
         "y": [
          720,
          345,
          104,
          95,
          411,
          443,
          328,
          256,
          375
         ]
        },
        {
         "name": "Nb AACSB",
         "type": "box",
         "uid": "b053c7cd-8194-4f38-8adb-db22d313993c",
         "y": [
          40,
          54,
          20,
          7,
          69,
          80,
          14,
          51,
          32
         ]
        },
        {
         "name": "Nb EQUIS",
         "type": "box",
         "uid": "abd695ce-89bd-4c7a-891b-0107745fcbf6",
         "y": [
          21,
          38,
          4,
          2,
          54,
          39,
          6,
          22,
          11
         ]
        },
        {
         "name": "NB les deux",
         "type": "box",
         "uid": "37e13cbc-69c6-4f65-954a-a3ddf8f0dc8e",
         "y": [
          16,
          31,
          4,
          2,
          46,
          34,
          5,
          17,
          7
         ]
        },
        {
         "name": "Nb étudiants double diplômés (SOMME)",
         "type": "box",
         "uid": "50777d99-7ff5-4a3a-830a-e90089689c79",
         "y": [
          16,
          14,
          80,
          60,
          18,
          111,
          69,
          14,
          150
         ]
        },
        {
         "name": "Nombre étudiants dble diplômés Aacsb ou equis",
         "type": "box",
         "uid": "fecdb58d-717c-4b27-8c7e-539a90a1fbd6",
         "y": [
          4,
          10,
          11,
          4,
          8,
          96,
          18,
          8,
          106
         ]
        },
        {
         "name": "Nombre de bachelors",
         "type": "box",
         "uid": "5bfdca23-5a03-491d-90e9-762e96ca1aeb",
         "y": [
          3,
          5,
          13,
          18,
          4,
          13,
          8,
          4,
          24
         ]
        },
        {
         "name": "Nbre etudiants étrangers",
         "type": "box",
         "uid": "b0c8a329-5de1-40d6-943a-d9700a034759",
         "y": [
          0,
          30,
          55,
          10,
          3,
          39,
          60,
          41,
          46
         ]
        },
        {
         "name": "Nb nationalités différentes",
         "type": "box",
         "uid": "b7f2d9b8-de86-494b-9175-f9d43d435081",
         "y": [
          0,
          17,
          35,
          6,
          2,
          12,
          11,
          15,
          26
         ]
        },
        {
         "name": "Nb prof permanents étrangers",
         "type": "box",
         "uid": "3971111e-1b81-46e3-8cfd-82cb3772dfcd",
         "y": [
          44,
          45,
          13,
          3,
          70,
          56,
          31,
          61,
          51
         ]
        },
        {
         "name": "Nb séjour 1er année",
         "type": "box",
         "uid": "a95243cf-8d81-4b71-a90d-31956e89890b",
         "y": [
          0,
          0,
          0,
          0,
          0,
          0,
          0,
          0,
          0
         ]
        },
        {
         "name": "Nb séjour 2eme année",
         "type": "box",
         "uid": "4d5036fd-97cb-4234-990d-6c43bb92d2ee",
         "y": [
          251,
          173,
          61,
          25,
          337,
          0,
          201,
          203,
          0
         ]
        },
        {
         "name": "Nb séjour 3eme année",
         "type": "box",
         "uid": "078fb5bd-eef7-4cd9-a035-062ff7e68b35",
         "y": [
          435,
          133,
          100,
          0,
          0,
          206,
          444,
          53,
          152
         ]
        },
        {
         "name": "Nb séjour 4eme année",
         "type": "box",
         "uid": "ea030cb3-f029-4906-8765-e3773de4baf1",
         "y": [
          34,
          39,
          0,
          0,
          325,
          237,
          36,
          0,
          142
         ]
        },
        {
         "name": "Nb séjour 5eme année",
         "type": "box",
         "uid": "c503bab8-f929-4b5c-8685-ef39b0cbc295",
         "y": [
          null,
          null,
          0,
          0,
          null,
          null,
          null,
          0,
          null
         ]
        },
        {
         "name": "Nb séjour césure",
         "type": "box",
         "uid": "9c98c118-d9bc-4b0c-a126-da08c5e2ad78",
         "y": [
          null,
          null,
          0,
          0,
          null,
          null,
          null,
          0,
          8
         ]
        },
        {
         "name": "Durée moyenne 1er année",
         "type": "box",
         "uid": "d9735f07-fded-4b36-8ff1-0d44f3563fd4",
         "y": [
          0,
          1,
          0,
          0,
          0,
          0,
          0,
          0,
          0
         ]
        },
        {
         "name": "Durée moyenne 4eme année",
         "type": "box",
         "uid": "da1a5439-5d72-4449-b857-101faf4ea499",
         "y": [
          2,
          2,
          0,
          0,
          1,
          1,
          2,
          0,
          2
         ]
        },
        {
         "name": "Durée moyenne 5eme année",
         "type": "box",
         "uid": "7783b496-cb56-4002-b3b5-ebe74cb67dc3",
         "y": [
          null,
          null,
          0,
          0,
          null,
          null,
          null,
          0,
          null
         ]
        },
        {
         "name": "Durée moyenne césure",
         "type": "box",
         "uid": "e10ff8cd-9635-456e-b663-1f3a34480a5b",
         "y": [
          null,
          null,
          0,
          0,
          null,
          null,
          null,
          0,
          null
         ]
        },
        {
         "name": "Nb stage à l'étranger 1er année",
         "type": "box",
         "uid": "e81d3574-50ad-468a-b012-e9ba08978c2c",
         "y": [
          139,
          165,
          115,
          16,
          105,
          1,
          120,
          54,
          56
         ]
        },
        {
         "name": "Nb stage à l'étranger 2eme année",
         "type": "box",
         "uid": "6bd52228-cd03-4c47-88d3-e989b921d0f9",
         "y": [
          183,
          190,
          138,
          35,
          268,
          69,
          447,
          46,
          83
         ]
        },
        {
         "name": "Nb stage à l'étranger 3eme année",
         "type": "box",
         "uid": "24c39ebe-b078-410c-bdd7-09c2667e5f63",
         "y": [
          297,
          167,
          100,
          26,
          335,
          0,
          290,
          32,
          103
         ]
        },
        {
         "name": "Nb stage à l'étranger 4eme année",
         "type": "box",
         "uid": "f2f9f90a-7f52-4f54-b640-68fd2e37aa98",
         "y": [
          136,
          18,
          130,
          54,
          0,
          208,
          135,
          196,
          99
         ]
        },
        {
         "name": "Nb stage à l'étranger 5eme année",
         "type": "box",
         "uid": "c11a167f-fae2-47b8-9260-070b8a6c22d0",
         "y": [
          null,
          null,
          null,
          0,
          null,
          null,
          null,
          null,
          null
         ]
        },
        {
         "name": "Nb stage à l'étranger césure",
         "type": "box",
         "uid": "c0445ace-d723-493e-a372-11db2c422f31",
         "y": [
          null,
          3,
          2,
          0,
          null,
          null,
          null,
          null,
          null
         ]
        },
        {
         "name": "Durée moyenne 1er année.1",
         "type": "box",
         "uid": "363bb9d3-69e6-443b-9066-4c1b573a7a3f",
         "y": [
          2,
          4,
          4,
          2,
          3,
          2,
          1,
          3,
          3
         ]
        },
        {
         "name": "Durée moyenne 2eme année.1",
         "type": "box",
         "uid": "18d4d29d-8915-48d1-971d-418e973328fd",
         "y": [
          4,
          6,
          4,
          6,
          1,
          6,
          3,
          3,
          3
         ]
        },
        {
         "name": "Durée moyenne 3eme année.1",
         "type": "box",
         "uid": "14ac80f3-94f5-469f-b6dc-0307e36eb12e",
         "y": [
          5,
          6,
          2,
          5,
          6,
          0,
          4,
          3,
          6
         ]
        },
        {
         "name": "Durée moyenne 4eme année.1",
         "type": "box",
         "uid": "2e3891a0-a194-4338-836e-423df38df713",
         "y": [
          7,
          6,
          8,
          6,
          0,
          6,
          6,
          6,
          6
         ]
        },
        {
         "name": "Durée moyenne 5eme année.1",
         "type": "box",
         "uid": "2eda63d2-c63d-4d17-88b6-d17809006468",
         "y": [
          null,
          null,
          null,
          0,
          null,
          null,
          null,
          null,
          null
         ]
        },
        {
         "name": "Durée moyenne 6eme année",
         "type": "box",
         "uid": "7ac94532-ff89-4f28-ad49-9d490a87fde9",
         "y": [
          null,
          12,
          12,
          0,
          null,
          null,
          null,
          null,
          12
         ]
        },
        {
         "name": "Campus séjourné étudiants",
         "type": "box",
         "uid": "cfd4296e-0855-43ae-9384-5b8f44fcf05f",
         "y": [
          1,
          1,
          1,
          0,
          1,
          1,
          1,
          0,
          1
         ]
        },
        {
         "name": "Combien de campus",
         "type": "box",
         "uid": "3bca0659-fa87-4d93-b443-7e6aa7b0c6dd",
         "y": [
          2,
          3,
          2,
          null,
          2,
          2,
          3,
          null,
          3
         ]
        },
        {
         "name": "Combien partis en séjour 2017/2018",
         "type": "box",
         "uid": "397c67ae-f48e-4389-9256-e8a8ce00bb45",
         "y": [
          73,
          114,
          57,
          null,
          189,
          17,
          353,
          null,
          172
         ]
        }
       ],
       "layout": {
        "showlegend": false,
        "title": {
         "text": "Boxplot des variables"
        }
       }
      },
      "text/html": [
       "<div id=\"95a353ab-7069-420a-98cf-8b2bf230e764\" style=\"height: 525px; width: 100%;\" class=\"plotly-graph-div\"></div><script type=\"text/javascript\">require([\"plotly\"], function(Plotly) { window.PLOTLYENV=window.PLOTLYENV || {};window.PLOTLYENV.BASE_URL=\"https://plot.ly\";Plotly.newPlot(\"95a353ab-7069-420a-98cf-8b2bf230e764\", [{\"name\": \"Nb Univ\", \"y\": [119, 86, 40, 58, 115, 152, 128, 92, 55], \"type\": \"box\", \"uid\": \"40816e9d-ce6a-4a98-bded-98b30afb5693\"}, {\"name\": \"Nb etudiant Univ a l'etrangers\", \"y\": [720, 345, 104, 95, 411, 443, 328, 256, 375], \"type\": \"box\", \"uid\": \"2f3ab4ca-4dd9-4bc0-bc53-9dceafb73c11\"}, {\"name\": \"Nb AACSB\", \"y\": [40, 54, 20, 7, 69, 80, 14, 51, 32], \"type\": \"box\", \"uid\": \"b053c7cd-8194-4f38-8adb-db22d313993c\"}, {\"name\": \"Nb EQUIS\", \"y\": [21, 38, 4, 2, 54, 39, 6, 22, 11], \"type\": \"box\", \"uid\": \"abd695ce-89bd-4c7a-891b-0107745fcbf6\"}, {\"name\": \"NB les deux\", \"y\": [16, 31, 4, 2, 46, 34, 5, 17, 7], \"type\": \"box\", \"uid\": \"37e13cbc-69c6-4f65-954a-a3ddf8f0dc8e\"}, {\"name\": \"Nb \\u00e9tudiants double dipl\\u00f4m\\u00e9s (SOMME)\", \"y\": [16, 14, 80, 60, 18, 111, 69, 14, 150], \"type\": \"box\", \"uid\": \"50777d99-7ff5-4a3a-830a-e90089689c79\"}, {\"name\": \"Nombre \\u00e9tudiants dble dipl\\u00f4m\\u00e9s Aacsb ou equis\", \"y\": [4, 10, 11, 4, 8, 96, 18, 8, 106], \"type\": \"box\", \"uid\": \"fecdb58d-717c-4b27-8c7e-539a90a1fbd6\"}, {\"name\": \"Nombre de bachelors\", \"y\": [3, 5, 13, 18, 4, 13, 8, 4, 24], \"type\": \"box\", \"uid\": \"5bfdca23-5a03-491d-90e9-762e96ca1aeb\"}, {\"name\": \"Nbre etudiants \\u00e9trangers\", \"y\": [0, 30, 55, 10, 3, 39, 60, 41, 46], \"type\": \"box\", \"uid\": \"b0c8a329-5de1-40d6-943a-d9700a034759\"}, {\"name\": \"Nb nationalit\\u00e9s diff\\u00e9rentes\", \"y\": [0, 17, 35, 6, 2, 12, 11, 15, 26], \"type\": \"box\", \"uid\": \"b7f2d9b8-de86-494b-9175-f9d43d435081\"}, {\"name\": \"Nb prof permanents \\u00e9trangers\", \"y\": [44, 45, 13, 3, 70, 56, 31, 61, 51], \"type\": \"box\", \"uid\": \"3971111e-1b81-46e3-8cfd-82cb3772dfcd\"}, {\"name\": \"Nb s\\u00e9jour 1er ann\\u00e9e\", \"y\": [0, 0, 0, 0, 0, 0, 0, 0, 0], \"type\": \"box\", \"uid\": \"a95243cf-8d81-4b71-a90d-31956e89890b\"}, {\"name\": \"Nb s\\u00e9jour 2eme ann\\u00e9e\", \"y\": [251, 173, 61, 25, 337, 0, 201, 203, 0], \"type\": \"box\", \"uid\": \"4d5036fd-97cb-4234-990d-6c43bb92d2ee\"}, {\"name\": \"Nb s\\u00e9jour 3eme ann\\u00e9e\", \"y\": [435, 133, 100, 0, 0, 206, 444, 53, 152], \"type\": \"box\", \"uid\": \"078fb5bd-eef7-4cd9-a035-062ff7e68b35\"}, {\"name\": \"Nb s\\u00e9jour 4eme ann\\u00e9e\", \"y\": [34, 39, 0, 0, 325, 237, 36, 0, 142], \"type\": \"box\", \"uid\": \"ea030cb3-f029-4906-8765-e3773de4baf1\"}, {\"name\": \"Nb s\\u00e9jour 5eme ann\\u00e9e\", \"y\": [null, null, 0.0, 0.0, null, null, null, 0.0, null], \"type\": \"box\", \"uid\": \"c503bab8-f929-4b5c-8685-ef39b0cbc295\"}, {\"name\": \"Nb s\\u00e9jour c\\u00e9sure\", \"y\": [null, null, 0.0, 0.0, null, null, null, 0.0, 8.0], \"type\": \"box\", \"uid\": \"9c98c118-d9bc-4b0c-a126-da08c5e2ad78\"}, {\"name\": \"Dur\\u00e9e moyenne 1er ann\\u00e9e\", \"y\": [0, 1, 0, 0, 0, 0, 0, 0, 0], \"type\": \"box\", \"uid\": \"d9735f07-fded-4b36-8ff1-0d44f3563fd4\"}, {\"name\": \"Dur\\u00e9e moyenne 4eme ann\\u00e9e\", \"y\": [2, 2, 0, 0, 1, 1, 2, 0, 2], \"type\": \"box\", \"uid\": \"da1a5439-5d72-4449-b857-101faf4ea499\"}, {\"name\": \"Dur\\u00e9e moyenne 5eme ann\\u00e9e\", \"y\": [null, null, 0.0, 0.0, null, null, null, 0.0, null], \"type\": \"box\", \"uid\": \"7783b496-cb56-4002-b3b5-ebe74cb67dc3\"}, {\"name\": \"Dur\\u00e9e moyenne c\\u00e9sure\", \"y\": [null, null, 0.0, 0.0, null, null, null, 0.0, null], \"type\": \"box\", \"uid\": \"e10ff8cd-9635-456e-b663-1f3a34480a5b\"}, {\"name\": \"Nb stage \\u00e0 l'\\u00e9tranger 1er ann\\u00e9e\", \"y\": [139, 165, 115, 16, 105, 1, 120, 54, 56], \"type\": \"box\", \"uid\": \"e81d3574-50ad-468a-b012-e9ba08978c2c\"}, {\"name\": \"Nb stage \\u00e0 l'\\u00e9tranger 2eme ann\\u00e9e\", \"y\": [183, 190, 138, 35, 268, 69, 447, 46, 83], \"type\": \"box\", \"uid\": \"6bd52228-cd03-4c47-88d3-e989b921d0f9\"}, {\"name\": \"Nb stage \\u00e0 l'\\u00e9tranger 3eme ann\\u00e9e\", \"y\": [297, 167, 100, 26, 335, 0, 290, 32, 103], \"type\": \"box\", \"uid\": \"24c39ebe-b078-410c-bdd7-09c2667e5f63\"}, {\"name\": \"Nb stage \\u00e0 l'\\u00e9tranger 4eme ann\\u00e9e\", \"y\": [136, 18, 130, 54, 0, 208, 135, 196, 99], \"type\": \"box\", \"uid\": \"f2f9f90a-7f52-4f54-b640-68fd2e37aa98\"}, {\"name\": \"Nb stage \\u00e0 l'\\u00e9tranger 5eme ann\\u00e9e\", \"y\": [null, null, null, 0.0, null, null, null, null, null], \"type\": \"box\", \"uid\": \"c11a167f-fae2-47b8-9260-070b8a6c22d0\"}, {\"name\": \"Nb stage \\u00e0 l'\\u00e9tranger c\\u00e9sure\", \"y\": [null, 3.0, 2.0, 0.0, null, null, null, null, null], \"type\": \"box\", \"uid\": \"c0445ace-d723-493e-a372-11db2c422f31\"}, {\"name\": \"Dur\\u00e9e moyenne 1er ann\\u00e9e.1\", \"y\": [2, 4, 4, 2, 3, 2, 1, 3, 3], \"type\": \"box\", \"uid\": \"363bb9d3-69e6-443b-9066-4c1b573a7a3f\"}, {\"name\": \"Dur\\u00e9e moyenne 2eme ann\\u00e9e.1\", \"y\": [4, 6, 4, 6, 1, 6, 3, 3, 3], \"type\": \"box\", \"uid\": \"18d4d29d-8915-48d1-971d-418e973328fd\"}, {\"name\": \"Dur\\u00e9e moyenne 3eme ann\\u00e9e.1\", \"y\": [5, 6, 2, 5, 6, 0, 4, 3, 6], \"type\": \"box\", \"uid\": \"14ac80f3-94f5-469f-b6dc-0307e36eb12e\"}, {\"name\": \"Dur\\u00e9e moyenne 4eme ann\\u00e9e.1\", \"y\": [7, 6, 8, 6, 0, 6, 6, 6, 6], \"type\": \"box\", \"uid\": \"2e3891a0-a194-4338-836e-423df38df713\"}, {\"name\": \"Dur\\u00e9e moyenne 5eme ann\\u00e9e.1\", \"y\": [null, null, null, 0.0, null, null, null, null, null], \"type\": \"box\", \"uid\": \"2eda63d2-c63d-4d17-88b6-d17809006468\"}, {\"name\": \"Dur\\u00e9e moyenne 6eme ann\\u00e9e\", \"y\": [null, 12.0, 12.0, 0.0, null, null, null, null, 12.0], \"type\": \"box\", \"uid\": \"7ac94532-ff89-4f28-ad49-9d490a87fde9\"}, {\"name\": \"Campus s\\u00e9journ\\u00e9 \\u00e9tudiants\", \"y\": [1, 1, 1, 0, 1, 1, 1, 0, 1], \"type\": \"box\", \"uid\": \"cfd4296e-0855-43ae-9384-5b8f44fcf05f\"}, {\"name\": \"Combien de campus\", \"y\": [2.0, 3.0, 2.0, null, 2.0, 2.0, 3.0, null, 3.0], \"type\": \"box\", \"uid\": \"3bca0659-fa87-4d93-b443-7e6aa7b0c6dd\"}, {\"name\": \"Combien partis en s\\u00e9jour 2017/2018\", \"y\": [73.0, 114.0, 57.0, null, 189.0, 17.0, 353.0, null, 172.0], \"type\": \"box\", \"uid\": \"397c67ae-f48e-4389-9256-e8a8ce00bb45\"}], {\"showlegend\": false, \"title\": {\"text\": \"Boxplot des variables\"}}, {\"showLink\": false, \"linkText\": \"Export to plot.ly\", \"plotlyServerURL\": \"https://plot.ly\"})});</script><script type=\"text/javascript\">window.addEventListener(\"resize\", function(){window._Plotly.Plots.resize(document.getElementById(\"95a353ab-7069-420a-98cf-8b2bf230e764\"));});</script>"
      ],
      "text/vnd.plotly.v1+html": [
       "<div id=\"95a353ab-7069-420a-98cf-8b2bf230e764\" style=\"height: 525px; width: 100%;\" class=\"plotly-graph-div\"></div><script type=\"text/javascript\">require([\"plotly\"], function(Plotly) { window.PLOTLYENV=window.PLOTLYENV || {};window.PLOTLYENV.BASE_URL=\"https://plot.ly\";Plotly.newPlot(\"95a353ab-7069-420a-98cf-8b2bf230e764\", [{\"name\": \"Nb Univ\", \"y\": [119, 86, 40, 58, 115, 152, 128, 92, 55], \"type\": \"box\", \"uid\": \"40816e9d-ce6a-4a98-bded-98b30afb5693\"}, {\"name\": \"Nb etudiant Univ a l'etrangers\", \"y\": [720, 345, 104, 95, 411, 443, 328, 256, 375], \"type\": \"box\", \"uid\": \"2f3ab4ca-4dd9-4bc0-bc53-9dceafb73c11\"}, {\"name\": \"Nb AACSB\", \"y\": [40, 54, 20, 7, 69, 80, 14, 51, 32], \"type\": \"box\", \"uid\": \"b053c7cd-8194-4f38-8adb-db22d313993c\"}, {\"name\": \"Nb EQUIS\", \"y\": [21, 38, 4, 2, 54, 39, 6, 22, 11], \"type\": \"box\", \"uid\": \"abd695ce-89bd-4c7a-891b-0107745fcbf6\"}, {\"name\": \"NB les deux\", \"y\": [16, 31, 4, 2, 46, 34, 5, 17, 7], \"type\": \"box\", \"uid\": \"37e13cbc-69c6-4f65-954a-a3ddf8f0dc8e\"}, {\"name\": \"Nb \\u00e9tudiants double dipl\\u00f4m\\u00e9s (SOMME)\", \"y\": [16, 14, 80, 60, 18, 111, 69, 14, 150], \"type\": \"box\", \"uid\": \"50777d99-7ff5-4a3a-830a-e90089689c79\"}, {\"name\": \"Nombre \\u00e9tudiants dble dipl\\u00f4m\\u00e9s Aacsb ou equis\", \"y\": [4, 10, 11, 4, 8, 96, 18, 8, 106], \"type\": \"box\", \"uid\": \"fecdb58d-717c-4b27-8c7e-539a90a1fbd6\"}, {\"name\": \"Nombre de bachelors\", \"y\": [3, 5, 13, 18, 4, 13, 8, 4, 24], \"type\": \"box\", \"uid\": \"5bfdca23-5a03-491d-90e9-762e96ca1aeb\"}, {\"name\": \"Nbre etudiants \\u00e9trangers\", \"y\": [0, 30, 55, 10, 3, 39, 60, 41, 46], \"type\": \"box\", \"uid\": \"b0c8a329-5de1-40d6-943a-d9700a034759\"}, {\"name\": \"Nb nationalit\\u00e9s diff\\u00e9rentes\", \"y\": [0, 17, 35, 6, 2, 12, 11, 15, 26], \"type\": \"box\", \"uid\": \"b7f2d9b8-de86-494b-9175-f9d43d435081\"}, {\"name\": \"Nb prof permanents \\u00e9trangers\", \"y\": [44, 45, 13, 3, 70, 56, 31, 61, 51], \"type\": \"box\", \"uid\": \"3971111e-1b81-46e3-8cfd-82cb3772dfcd\"}, {\"name\": \"Nb s\\u00e9jour 1er ann\\u00e9e\", \"y\": [0, 0, 0, 0, 0, 0, 0, 0, 0], \"type\": \"box\", \"uid\": \"a95243cf-8d81-4b71-a90d-31956e89890b\"}, {\"name\": \"Nb s\\u00e9jour 2eme ann\\u00e9e\", \"y\": [251, 173, 61, 25, 337, 0, 201, 203, 0], \"type\": \"box\", \"uid\": \"4d5036fd-97cb-4234-990d-6c43bb92d2ee\"}, {\"name\": \"Nb s\\u00e9jour 3eme ann\\u00e9e\", \"y\": [435, 133, 100, 0, 0, 206, 444, 53, 152], \"type\": \"box\", \"uid\": \"078fb5bd-eef7-4cd9-a035-062ff7e68b35\"}, {\"name\": \"Nb s\\u00e9jour 4eme ann\\u00e9e\", \"y\": [34, 39, 0, 0, 325, 237, 36, 0, 142], \"type\": \"box\", \"uid\": \"ea030cb3-f029-4906-8765-e3773de4baf1\"}, {\"name\": \"Nb s\\u00e9jour 5eme ann\\u00e9e\", \"y\": [null, null, 0.0, 0.0, null, null, null, 0.0, null], \"type\": \"box\", \"uid\": \"c503bab8-f929-4b5c-8685-ef39b0cbc295\"}, {\"name\": \"Nb s\\u00e9jour c\\u00e9sure\", \"y\": [null, null, 0.0, 0.0, null, null, null, 0.0, 8.0], \"type\": \"box\", \"uid\": \"9c98c118-d9bc-4b0c-a126-da08c5e2ad78\"}, {\"name\": \"Dur\\u00e9e moyenne 1er ann\\u00e9e\", \"y\": [0, 1, 0, 0, 0, 0, 0, 0, 0], \"type\": \"box\", \"uid\": \"d9735f07-fded-4b36-8ff1-0d44f3563fd4\"}, {\"name\": \"Dur\\u00e9e moyenne 4eme ann\\u00e9e\", \"y\": [2, 2, 0, 0, 1, 1, 2, 0, 2], \"type\": \"box\", \"uid\": \"da1a5439-5d72-4449-b857-101faf4ea499\"}, {\"name\": \"Dur\\u00e9e moyenne 5eme ann\\u00e9e\", \"y\": [null, null, 0.0, 0.0, null, null, null, 0.0, null], \"type\": \"box\", \"uid\": \"7783b496-cb56-4002-b3b5-ebe74cb67dc3\"}, {\"name\": \"Dur\\u00e9e moyenne c\\u00e9sure\", \"y\": [null, null, 0.0, 0.0, null, null, null, 0.0, null], \"type\": \"box\", \"uid\": \"e10ff8cd-9635-456e-b663-1f3a34480a5b\"}, {\"name\": \"Nb stage \\u00e0 l'\\u00e9tranger 1er ann\\u00e9e\", \"y\": [139, 165, 115, 16, 105, 1, 120, 54, 56], \"type\": \"box\", \"uid\": \"e81d3574-50ad-468a-b012-e9ba08978c2c\"}, {\"name\": \"Nb stage \\u00e0 l'\\u00e9tranger 2eme ann\\u00e9e\", \"y\": [183, 190, 138, 35, 268, 69, 447, 46, 83], \"type\": \"box\", \"uid\": \"6bd52228-cd03-4c47-88d3-e989b921d0f9\"}, {\"name\": \"Nb stage \\u00e0 l'\\u00e9tranger 3eme ann\\u00e9e\", \"y\": [297, 167, 100, 26, 335, 0, 290, 32, 103], \"type\": \"box\", \"uid\": \"24c39ebe-b078-410c-bdd7-09c2667e5f63\"}, {\"name\": \"Nb stage \\u00e0 l'\\u00e9tranger 4eme ann\\u00e9e\", \"y\": [136, 18, 130, 54, 0, 208, 135, 196, 99], \"type\": \"box\", \"uid\": \"f2f9f90a-7f52-4f54-b640-68fd2e37aa98\"}, {\"name\": \"Nb stage \\u00e0 l'\\u00e9tranger 5eme ann\\u00e9e\", \"y\": [null, null, null, 0.0, null, null, null, null, null], \"type\": \"box\", \"uid\": \"c11a167f-fae2-47b8-9260-070b8a6c22d0\"}, {\"name\": \"Nb stage \\u00e0 l'\\u00e9tranger c\\u00e9sure\", \"y\": [null, 3.0, 2.0, 0.0, null, null, null, null, null], \"type\": \"box\", \"uid\": \"c0445ace-d723-493e-a372-11db2c422f31\"}, {\"name\": \"Dur\\u00e9e moyenne 1er ann\\u00e9e.1\", \"y\": [2, 4, 4, 2, 3, 2, 1, 3, 3], \"type\": \"box\", \"uid\": \"363bb9d3-69e6-443b-9066-4c1b573a7a3f\"}, {\"name\": \"Dur\\u00e9e moyenne 2eme ann\\u00e9e.1\", \"y\": [4, 6, 4, 6, 1, 6, 3, 3, 3], \"type\": \"box\", \"uid\": \"18d4d29d-8915-48d1-971d-418e973328fd\"}, {\"name\": \"Dur\\u00e9e moyenne 3eme ann\\u00e9e.1\", \"y\": [5, 6, 2, 5, 6, 0, 4, 3, 6], \"type\": \"box\", \"uid\": \"14ac80f3-94f5-469f-b6dc-0307e36eb12e\"}, {\"name\": \"Dur\\u00e9e moyenne 4eme ann\\u00e9e.1\", \"y\": [7, 6, 8, 6, 0, 6, 6, 6, 6], \"type\": \"box\", \"uid\": \"2e3891a0-a194-4338-836e-423df38df713\"}, {\"name\": \"Dur\\u00e9e moyenne 5eme ann\\u00e9e.1\", \"y\": [null, null, null, 0.0, null, null, null, null, null], \"type\": \"box\", \"uid\": \"2eda63d2-c63d-4d17-88b6-d17809006468\"}, {\"name\": \"Dur\\u00e9e moyenne 6eme ann\\u00e9e\", \"y\": [null, 12.0, 12.0, 0.0, null, null, null, null, 12.0], \"type\": \"box\", \"uid\": \"7ac94532-ff89-4f28-ad49-9d490a87fde9\"}, {\"name\": \"Campus s\\u00e9journ\\u00e9 \\u00e9tudiants\", \"y\": [1, 1, 1, 0, 1, 1, 1, 0, 1], \"type\": \"box\", \"uid\": \"cfd4296e-0855-43ae-9384-5b8f44fcf05f\"}, {\"name\": \"Combien de campus\", \"y\": [2.0, 3.0, 2.0, null, 2.0, 2.0, 3.0, null, 3.0], \"type\": \"box\", \"uid\": \"3bca0659-fa87-4d93-b443-7e6aa7b0c6dd\"}, {\"name\": \"Combien partis en s\\u00e9jour 2017/2018\", \"y\": [73.0, 114.0, 57.0, null, 189.0, 17.0, 353.0, null, 172.0], \"type\": \"box\", \"uid\": \"397c67ae-f48e-4389-9256-e8a8ce00bb45\"}], {\"showlegend\": false, \"title\": {\"text\": \"Boxplot des variables\"}}, {\"showLink\": false, \"linkText\": \"Export to plot.ly\", \"plotlyServerURL\": \"https://plot.ly\"})});</script><script type=\"text/javascript\">window.addEventListener(\"resize\", function(){window._Plotly.Plots.resize(document.getElementById(\"95a353ab-7069-420a-98cf-8b2bf230e764\"));});</script>"
      ]
     },
     "metadata": {},
     "output_type": "display_data"
    }
   ],
   "source": [
    "traces = []\n",
    "for col in num_columns :\n",
    "    traces.append(go.Box(y = data[col], name = str(col)))\n",
    "layout = go.Layout(title = 'Boxplot des variables',\n",
    "                   showlegend=False)\n",
    "fig = go.Figure(data=traces, layout=layout)\n",
    "py.iplot(fig)"
   ]
  },
  {
   "cell_type": "code",
   "execution_count": null,
   "metadata": {},
   "outputs": [],
   "source": [
    "cols_to_keep = "
   ]
  }
 ],
 "metadata": {
  "kernelspec": {
   "display_name": "Python 3",
   "language": "python",
   "name": "python3"
  },
  "language_info": {
   "codemirror_mode": {
    "name": "ipython",
    "version": 3
   },
   "file_extension": ".py",
   "mimetype": "text/x-python",
   "name": "python",
   "nbconvert_exporter": "python",
   "pygments_lexer": "ipython3",
   "version": "3.7.1"
  }
 },
 "nbformat": 4,
 "nbformat_minor": 2
}
